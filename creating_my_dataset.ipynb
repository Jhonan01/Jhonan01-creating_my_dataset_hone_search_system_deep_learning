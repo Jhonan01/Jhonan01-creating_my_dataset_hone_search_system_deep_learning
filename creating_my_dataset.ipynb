{
  "nbformat": 4,
  "nbformat_minor": 0,
  "metadata": {
    "colab": {
      "name": "creating my dataset.ipynb",
      "provenance": [],
      "collapsed_sections": [],
      "authorship_tag": "ABX9TyOYqPVkn/G7iNV4M8vO39KE",
      "include_colab_link": true
    },
    "kernelspec": {
      "name": "python3",
      "display_name": "Python 3"
    }
  },
  "cells": [
    {
      "cell_type": "markdown",
      "metadata": {
        "id": "view-in-github",
        "colab_type": "text"
      },
      "source": [
        "<a href=\"https://colab.research.google.com/github/Jhonan01/Jhonan01-creating_my_dataset_hone_search_system_deep_learning/blob/main/creating_my_dataset.ipynb\" target=\"_parent\"><img src=\"https://colab.research.google.com/assets/colab-badge.svg\" alt=\"Open In Colab\"/></a>"
      ]
    },
    {
      "cell_type": "code",
      "metadata": {
        "id": "LuDkDXa4oOtQ"
      },
      "source": [
        "import requests\r\n",
        "from bs4 import BeautifulSoup"
      ],
      "execution_count": null,
      "outputs": []
    },
    {
      "cell_type": "code",
      "metadata": {
        "id": "uhgKalgzaNKI"
      },
      "source": [
        "class Scraping:\r\n",
        "  def __init__(self, pages):\r\n",
        "    self.pages = pages\r\n",
        "\r\n",
        "  def search(self):\r\n",
        "\r\n",
        "    datas = list()\r\n",
        "\r\n",
        "    for i in range(self.pages):\r\n",
        "      url = 'https://www.mercadolivre.com.br/ofertas?page='+str(i+1)\r\n",
        "  \r\n",
        "      page = requests.get(url)\r\n",
        "\r\n",
        "      soup = BeautifulSoup(page.text, 'lxml')\r\n",
        "      result = soup.find_all(\"li\", {\"class\" : \"promotion-item\"}) \r\n",
        "      \r\n",
        "      for a in result:\r\n",
        "        try:\r\n",
        "          datas.append(a.find_all('p')[0].contents[0])\r\n",
        "      \r\n",
        "        except:\r\n",
        "          print('erro')  \r\n",
        "\r\n",
        "    return datas   \r\n",
        "\r\n",
        "data = Scraping(209)\r\n",
        "\r\n",
        "dataset = data.search()"
      ],
      "execution_count": null,
      "outputs": []
    },
    {
      "cell_type": "code",
      "metadata": {
        "id": "zTbQPDfVql-s"
      },
      "source": [
        "import pandas as pd"
      ],
      "execution_count": null,
      "outputs": []
    },
    {
      "cell_type": "code",
      "metadata": {
        "colab": {
          "base_uri": "https://localhost:8080/",
          "height": 402
        },
        "id": "VJSoohXgfHJ4",
        "outputId": "7002af16-212e-406d-8f30-13252f80e752"
      },
      "source": [
        "dataset = pd.DataFrame(dataset)\r\n",
        "dataset"
      ],
      "execution_count": null,
      "outputs": [
        {
          "output_type": "execute_result",
          "data": {
            "text/html": [
              "<div>\n",
              "<style scoped>\n",
              "    .dataframe tbody tr th:only-of-type {\n",
              "        vertical-align: middle;\n",
              "    }\n",
              "\n",
              "    .dataframe tbody tr th {\n",
              "        vertical-align: top;\n",
              "    }\n",
              "\n",
              "    .dataframe thead th {\n",
              "        text-align: right;\n",
              "    }\n",
              "</style>\n",
              "<table border=\"1\" class=\"dataframe\">\n",
              "  <thead>\n",
              "    <tr style=\"text-align: right;\">\n",
              "      <th></th>\n",
              "      <th>0</th>\n",
              "    </tr>\n",
              "  </thead>\n",
              "  <tbody>\n",
              "    <tr>\n",
              "      <th>0</th>\n",
              "      <td>Travesseiro Nasa Poliuretano 45x65 Cm Duoflex ...</td>\n",
              "    </tr>\n",
              "    <tr>\n",
              "      <th>1</th>\n",
              "      <td>Aspirador De Pó Wap Gtw 10 10l Amarelo E Preto...</td>\n",
              "    </tr>\n",
              "    <tr>\n",
              "      <th>2</th>\n",
              "      <td>Ventilador De Teto Ventisol Fênix Branco Com 3...</td>\n",
              "    </tr>\n",
              "    <tr>\n",
              "      <th>3</th>\n",
              "      <td>Batedeira Planetária Philco Turbo Php500 12 Ve...</td>\n",
              "    </tr>\n",
              "    <tr>\n",
              "      <th>4</th>\n",
              "      <td>Aparelho Medidor De Pressão Arterial Digital D...</td>\n",
              "    </tr>\n",
              "    <tr>\n",
              "      <th>...</th>\n",
              "      <td>...</td>\n",
              "    </tr>\n",
              "    <tr>\n",
              "      <th>9995</th>\n",
              "      <td>Impermeável Bicicleta Telefone Mount Bolsas Fr...</td>\n",
              "    </tr>\n",
              "    <tr>\n",
              "      <th>9996</th>\n",
              "      <td>2018 Aliexpress Desejo Amazon Europa E Estados...</td>\n",
              "    </tr>\n",
              "    <tr>\n",
              "      <th>9997</th>\n",
              "      <td>2pcs Antiderrapante Caiaque Macio Canoe Paddle...</td>\n",
              "    </tr>\n",
              "    <tr>\n",
              "      <th>9998</th>\n",
              "      <td>Bt 5.0 Fone De Ouvido Sem Fio Fones De Ouvido ...</td>\n",
              "    </tr>\n",
              "    <tr>\n",
              "      <th>9999</th>\n",
              "      <td>17pcs Guitarra Som Beam Kit Abeto Madeira Para...</td>\n",
              "    </tr>\n",
              "  </tbody>\n",
              "</table>\n",
              "<p>10000 rows × 1 columns</p>\n",
              "</div>"
            ],
            "text/plain": [
              "                                                      0\n",
              "0     Travesseiro Nasa Poliuretano 45x65 Cm Duoflex ...\n",
              "1     Aspirador De Pó Wap Gtw 10 10l Amarelo E Preto...\n",
              "2     Ventilador De Teto Ventisol Fênix Branco Com 3...\n",
              "3     Batedeira Planetária Philco Turbo Php500 12 Ve...\n",
              "4     Aparelho Medidor De Pressão Arterial Digital D...\n",
              "...                                                 ...\n",
              "9995  Impermeável Bicicleta Telefone Mount Bolsas Fr...\n",
              "9996  2018 Aliexpress Desejo Amazon Europa E Estados...\n",
              "9997  2pcs Antiderrapante Caiaque Macio Canoe Paddle...\n",
              "9998  Bt 5.0 Fone De Ouvido Sem Fio Fones De Ouvido ...\n",
              "9999  17pcs Guitarra Som Beam Kit Abeto Madeira Para...\n",
              "\n",
              "[10000 rows x 1 columns]"
            ]
          },
          "metadata": {
            "tags": []
          },
          "execution_count": 69
        }
      ]
    },
    {
      "cell_type": "code",
      "metadata": {
        "id": "HUH7KQbggUC4"
      },
      "source": [
        "dataset.to_excel('dataset_purchase.xls')"
      ],
      "execution_count": null,
      "outputs": []
    },
    {
      "cell_type": "markdown",
      "metadata": {
        "id": "Kt4nlllkxRRu"
      },
      "source": [
        "# Dataset Import"
      ]
    },
    {
      "cell_type": "code",
      "metadata": {
        "colab": {
          "base_uri": "https://localhost:8080/"
        },
        "id": "P_SE2Job9DXe",
        "outputId": "fe007494-81b4-46cc-a61b-f149fa450656"
      },
      "source": [
        "from google.colab import drive\n",
        "drive.mount('/content/drive')"
      ],
      "execution_count": null,
      "outputs": [
        {
          "output_type": "stream",
          "text": [
            "Drive already mounted at /content/drive; to attempt to forcibly remount, call drive.mount(\"/content/drive\", force_remount=True).\n"
          ],
          "name": "stdout"
        }
      ]
    },
    {
      "cell_type": "code",
      "metadata": {
        "id": "T_D1zTz8xU0c"
      },
      "source": [
        "dataset_train = pd.read_excel('drive/MyDrive/my_dataset/dataset_purchase_train.xls')"
      ],
      "execution_count": null,
      "outputs": []
    },
    {
      "cell_type": "code",
      "metadata": {
        "colab": {
          "base_uri": "https://localhost:8080/"
        },
        "id": "HPa0oh9hZqAn",
        "outputId": "17326b34-c56f-4c57-ce05-2a94833afefa"
      },
      "source": [
        "print(data[0][0])"
      ],
      "execution_count": null,
      "outputs": [
        {
          "output_type": "stream",
          "text": [
            "Travesseiro Nasa Poliuretano 45x65 Cm Duoflex Duplo Nasa 2pç\n"
          ],
          "name": "stdout"
        }
      ]
    },
    {
      "cell_type": "code",
      "metadata": {
        "id": "CuSpArBErso-"
      },
      "source": [
        "import numpy as np"
      ],
      "execution_count": null,
      "outputs": []
    },
    {
      "cell_type": "code",
      "metadata": {
        "colab": {
          "base_uri": "https://localhost:8080/"
        },
        "id": "0suvAF5AMxY_",
        "outputId": "c6059870-5dbf-414f-e39b-ddfcf1b1a3ee"
      },
      "source": [
        "print(np.shape(dataset_train))"
      ],
      "execution_count": null,
      "outputs": [
        {
          "output_type": "stream",
          "text": [
            "(20000, 1)\n"
          ],
          "name": "stdout"
        }
      ]
    },
    {
      "cell_type": "code",
      "metadata": {
        "colab": {
          "base_uri": "https://localhost:8080/"
        },
        "id": "SKZTE0bzv0bB",
        "outputId": "245a1789-e204-4916-8b6e-b1c35cc01243"
      },
      "source": [
        "print(np.shape(dataset_train))\r\n",
        "print(dataset_train[0])"
      ],
      "execution_count": null,
      "outputs": [
        {
          "output_type": "stream",
          "text": [
            "(20000, 1)\n",
            "0        Smart Tv Samsung Series Business Lh55bethvggxz...\n",
            "1        Escova Modelle Steam Bec01 Emissão De Vapor Br...\n",
            "2        Furadeira/parafusadeira A Bateria 12v Pfv012 C...\n",
            "3           Fone De Ouvido Apple Com Fio Com Entrada 3.5mm\n",
            "4        Fórmula Infantil Em Pó Mead Johnson Enfagrow E...\n",
            "                               ...                        \n",
            "19995    5d Diy Diamond Pintura Bonito Selva Animais Pi...\n",
            "19996    3.5mm Cabo De Fones De Ouvido Com Fio De Subst...\n",
            "19997    Alimentador De Peixe Automático Inteligente Di...\n",
            "19998    Bota Coturno Feminino Salto Alto Casual Macia ...\n",
            "19999    Caneta De Gel Criativa Adorável Material De Es...\n",
            "Name: 0, Length: 20000, dtype: object\n"
          ],
          "name": "stdout"
        }
      ]
    },
    {
      "cell_type": "code",
      "metadata": {
        "id": "vfSLxGTX9qm2"
      },
      "source": [
        "train = list()\r\n",
        "\r\n",
        "for i in range(len(dataset_train[0])):\r\n",
        "  train.append(dataset_train[0][i])\r\n",
        " "
      ],
      "execution_count": null,
      "outputs": []
    },
    {
      "cell_type": "code",
      "metadata": {
        "colab": {
          "base_uri": "https://localhost:8080/"
        },
        "id": "jhQzs-16vvxp",
        "outputId": "e9d99e33-dfd9-4e47-d4de-693651087b50"
      },
      "source": [
        "print(np.shape(train))\r\n",
        "print(train[0])"
      ],
      "execution_count": null,
      "outputs": [
        {
          "output_type": "stream",
          "text": [
            "(20000,)\n",
            "Smart Tv Samsung Series Business Lh55bethvggxzd Led 4k 55  100v/240v\n"
          ],
          "name": "stdout"
        }
      ]
    },
    {
      "cell_type": "markdown",
      "metadata": {
        "id": "73uVSzbm_Ev8"
      },
      "source": [
        "# Word2Vec Embedding Training\r\n"
      ]
    },
    {
      "cell_type": "code",
      "metadata": {
        "id": "Udh4oZryGLjx"
      },
      "source": [
        "from gensim.models import word2vec, KeyedVectors\r\n",
        "import nltk\r\n",
        "import gensim\r\n",
        "\r\n",
        "train = np.array(train)"
      ],
      "execution_count": null,
      "outputs": []
    },
    {
      "cell_type": "code",
      "metadata": {
        "id": "APjvPt1-SLSs",
        "colab": {
          "base_uri": "https://localhost:8080/"
        },
        "outputId": "1b99982e-8f8a-401e-92f8-7e6b14195e8b"
      },
      "source": [
        "#nltk.download('punkt')"
      ],
      "execution_count": null,
      "outputs": [
        {
          "output_type": "stream",
          "text": [
            "[nltk_data] Downloading package punkt to /root/nltk_data...\n",
            "[nltk_data]   Unzipping tokenizers/punkt.zip.\n"
          ],
          "name": "stdout"
        },
        {
          "output_type": "execute_result",
          "data": {
            "text/plain": [
              "True"
            ]
          },
          "metadata": {
            "tags": []
          },
          "execution_count": 73
        }
      ]
    },
    {
      "cell_type": "code",
      "metadata": {
        "id": "AMupdM-HNXgV"
      },
      "source": [
        "vec = [nltk.word_tokenize(title) for title in train]"
      ],
      "execution_count": null,
      "outputs": []
    },
    {
      "cell_type": "code",
      "metadata": {
        "id": "MpzEssXhJofp"
      },
      "source": [
        "model = gensim.models.Word2Vec(vec, min_count=1, size=32)"
      ],
      "execution_count": null,
      "outputs": []
    },
    {
      "cell_type": "markdown",
      "metadata": {
        "id": "UIywJdYa_uOy"
      },
      "source": [
        "# Results"
      ]
    },
    {
      "cell_type": "code",
      "metadata": {
        "id": "hXb0ZZzXQOrm",
        "colab": {
          "base_uri": "https://localhost:8080/"
        },
        "outputId": "78258caa-5986-4c23-a020-942a75ef1134"
      },
      "source": [
        "title = 'Smart'\r\n",
        "\r\n",
        "title = title.split(' ')\r\n",
        "print(title)\r\n",
        "\r\n",
        "\r\n",
        "model.most_similar(title)"
      ],
      "execution_count": null,
      "outputs": [
        {
          "output_type": "stream",
          "text": [
            "['Smart']\n"
          ],
          "name": "stdout"
        },
        {
          "output_type": "stream",
          "text": [
            "/usr/local/lib/python3.7/dist-packages/ipykernel_launcher.py:7: DeprecationWarning: Call to deprecated `most_similar` (Method will be removed in 4.0.0, use self.wv.most_similar() instead).\n",
            "  import sys\n"
          ],
          "name": "stderr"
        },
        {
          "output_type": "execute_result",
          "data": {
            "text/plain": [
              "[('Wifi', 0.9996742010116577),\n",
              " ('Rf', 0.9992866516113281),\n",
              " ('Touch', 0.9991462230682373),\n",
              " ('Gamer', 0.9990144968032837),\n",
              " ('Gaming', 0.9989409446716309),\n",
              " ('Android', 0.9989314675331116),\n",
              " ('Display', 0.9988144040107727),\n",
              " ('Pc', 0.9987987279891968),\n",
              " ('Fm', 0.9987504482269287),\n",
              " ('Rádio', 0.9986879229545593)]"
            ]
          },
          "metadata": {
            "tags": []
          },
          "execution_count": 83
        }
      ]
    }
  ]
}